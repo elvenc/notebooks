{
 "cells": [
  {
   "cell_type": "code",
   "execution_count": 1,
   "metadata": {},
   "outputs": [],
   "source": [
    "import sys,os\n",
    "import csv\n",
    "import pandas as pd"
   ]
  },
  {
   "cell_type": "code",
   "execution_count": 5,
   "metadata": {},
   "outputs": [
    {
     "name": "stdout",
     "output_type": "stream",
     "text": [
      "Reading file  flex_data_2-6.xlsx\n",
      "Reading file  flex_data_6-9.xlsx\n",
      "Reading file  scc_data_1-6.xlsx\n",
      "Reading file  scc_data_6-9.xlsx\n",
      "<class 'pandas.core.frame.DataFrame'>\n",
      "Int64Index: 97539 entries, 0 to 25286\n",
      "Data columns (total 2 columns):\n",
      "MotherSN    97539 non-null object\n",
      "ChildSN     97486 non-null object\n",
      "dtypes: object(2)\n",
      "memory usage: 2.2+ MB\n"
     ]
    }
   ],
   "source": [
    "files = ['flex_data_2-6.xlsx', \n",
    "        'flex_data_6-9.xlsx',\n",
    "        'scc_data_1-6.xlsx',\n",
    "        'scc_data_6-9.xlsx']\n",
    "\n",
    "alldata = pd.DataFrame()\n",
    "for idx, val in enumerate(files):\n",
    "    file = val\n",
    "    print(\"Reading file \", file)\n",
    "    data = pd.read_excel(file)\n",
    "    #data.info()\n",
    "    for idx, row in data.iterrows():\n",
    "        row['MotherSN'] = row['MotherSN'].strip(\"\\'\")\n",
    "    alldata = alldata.append(data)\n",
    "    \n",
    "alldata.info()"
   ]
  },
  {
   "cell_type": "code",
   "execution_count": 6,
   "metadata": {},
   "outputs": [
    {
     "name": "stdout",
     "output_type": "stream",
     "text": [
      "MotherSN = 10006244181R0004, ChildSN = XR-X097013AB801100990\n",
      "MotherSN = 10006244181R0053, ChildSN = XR-X097013AB801100535\n",
      "MotherSN = 10006244181R0114, ChildSN = 4555107GB1B1968\n",
      "MotherSN = 10006244181R0118, ChildSN = SZGR201701623\n",
      "MotherSN = 10006244181W0046, ChildSN = 110044181Q005BC0\n",
      "MotherSN = 10006244181W0046, ChildSN = 120024181N0068C0\n",
      "MotherSN = 10006244181W0046, ChildSN = 040014181N002QC0\n",
      "MotherSN = 10006244181W0046, ChildSN = SZGR201701422\n",
      "MotherSN = 10006244181W0046, ChildSN = 090024181S005FD0\n",
      "MotherSN = 10006244181W0046, ChildSN = 000194181T0011A0\n"
     ]
    }
   ],
   "source": [
    "for i in range(10):\n",
    "    mother = alldata.iloc[i]['MotherSN']\n",
    "    child = alldata.iloc[i]['ChildSN']\n",
    "    print(\"MotherSN = {}, ChildSN = {}\".format(mother, child))"
   ]
  },
  {
   "cell_type": "code",
   "execution_count": 13,
   "metadata": {},
   "outputs": [
    {
     "name": "stdout",
     "output_type": "stream",
     "text": [
      "<class 'pandas.core.frame.DataFrame'>\n",
      "RangeIndex: 8647 entries, 0 to 8646\n",
      "Data columns (total 2 columns):\n",
      "ProductSN    8647 non-null object\n",
      "PackDate     8647 non-null datetime64[ns]\n",
      "dtypes: datetime64[ns](1), object(1)\n",
      "memory usage: 135.2+ KB\n"
     ]
    }
   ],
   "source": [
    "out_columns = ['PackDate', 'MotherSN', 'MB', 'NIBP', 'SPO2', 'GLU', 'ECG']\n",
    "sndata = pd.read_excel(\"ProductSN_3-9.xlsx\")\n",
    "sndata.info()"
   ]
  },
  {
   "cell_type": "code",
   "execution_count": 18,
   "metadata": {},
   "outputs": [
    {
     "name": "stdout",
     "output_type": "stream",
     "text": [
      "8647\n"
     ]
    },
    {
     "data": {
      "text/html": [
       "<div>\n",
       "<style scoped>\n",
       "    .dataframe tbody tr th:only-of-type {\n",
       "        vertical-align: middle;\n",
       "    }\n",
       "\n",
       "    .dataframe tbody tr th {\n",
       "        vertical-align: top;\n",
       "    }\n",
       "\n",
       "    .dataframe thead th {\n",
       "        text-align: right;\n",
       "    }\n",
       "</style>\n",
       "<table border=\"1\" class=\"dataframe\">\n",
       "  <thead>\n",
       "    <tr style=\"text-align: right;\">\n",
       "      <th></th>\n",
       "      <th>ProductSN</th>\n",
       "      <th>PackDate</th>\n",
       "    </tr>\n",
       "  </thead>\n",
       "  <tbody>\n",
       "    <tr>\n",
       "      <th>0</th>\n",
       "      <td>GT10006244181W0053</td>\n",
       "      <td>2018-03-05</td>\n",
       "    </tr>\n",
       "    <tr>\n",
       "      <th>1</th>\n",
       "      <td>GT1000624418210035</td>\n",
       "      <td>2018-03-05</td>\n",
       "    </tr>\n",
       "    <tr>\n",
       "      <th>2</th>\n",
       "      <td>GT1000624418210117</td>\n",
       "      <td>2018-03-05</td>\n",
       "    </tr>\n",
       "    <tr>\n",
       "      <th>3</th>\n",
       "      <td>GT1000624418210123</td>\n",
       "      <td>2018-03-05</td>\n",
       "    </tr>\n",
       "    <tr>\n",
       "      <th>4</th>\n",
       "      <td>GT1000624418210138</td>\n",
       "      <td>2018-03-05</td>\n",
       "    </tr>\n",
       "  </tbody>\n",
       "</table>\n",
       "</div>"
      ],
      "text/plain": [
       "            ProductSN   PackDate\n",
       "0  GT10006244181W0053 2018-03-05\n",
       "1  GT1000624418210035 2018-03-05\n",
       "2  GT1000624418210117 2018-03-05\n",
       "3  GT1000624418210123 2018-03-05\n",
       "4  GT1000624418210138 2018-03-05"
      ]
     },
     "execution_count": 18,
     "metadata": {},
     "output_type": "execute_result"
    }
   ],
   "source": [
    "print(len(sndata))\n",
    "sndata.head()"
   ]
  },
  {
   "cell_type": "code",
   "execution_count": 24,
   "metadata": {},
   "outputs": [
    {
     "name": "stdout",
     "output_type": "stream",
     "text": [
      "<class 'pandas.core.frame.DataFrame'>\n",
      "RangeIndex: 8647 entries, 0 to 8646\n",
      "Data columns (total 7 columns):\n",
      "PackDate    8647 non-null datetime64[ns]\n",
      "MotherSN    8647 non-null object\n",
      "MB          8647 non-null object\n",
      "NIBP        8647 non-null object\n",
      "SPO2        8647 non-null object\n",
      "GLU         8647 non-null object\n",
      "ECG         8647 non-null object\n",
      "dtypes: datetime64[ns](1), object(6)\n",
      "memory usage: 473.0+ KB\n"
     ]
    },
    {
     "data": {
      "text/html": [
       "<div>\n",
       "<style scoped>\n",
       "    .dataframe tbody tr th:only-of-type {\n",
       "        vertical-align: middle;\n",
       "    }\n",
       "\n",
       "    .dataframe tbody tr th {\n",
       "        vertical-align: top;\n",
       "    }\n",
       "\n",
       "    .dataframe thead th {\n",
       "        text-align: right;\n",
       "    }\n",
       "</style>\n",
       "<table border=\"1\" class=\"dataframe\">\n",
       "  <thead>\n",
       "    <tr style=\"text-align: right;\">\n",
       "      <th></th>\n",
       "      <th>PackDate</th>\n",
       "      <th>MotherSN</th>\n",
       "      <th>MB</th>\n",
       "      <th>NIBP</th>\n",
       "      <th>SPO2</th>\n",
       "      <th>GLU</th>\n",
       "      <th>ECG</th>\n",
       "    </tr>\n",
       "  </thead>\n",
       "  <tbody>\n",
       "    <tr>\n",
       "      <th>0</th>\n",
       "      <td>2018-03-05</td>\n",
       "      <td>10006244181W0053</td>\n",
       "      <td>000194181T0002A0</td>\n",
       "      <td>120024181N004JC0</td>\n",
       "      <td>110044181Q002NC0</td>\n",
       "      <td>04001417CC006SC0</td>\n",
       "      <td>SZGR201701416</td>\n",
       "    </tr>\n",
       "    <tr>\n",
       "      <th>1</th>\n",
       "      <td>2018-03-05</td>\n",
       "      <td>1000624418210035</td>\n",
       "      <td>000194181W000WA0</td>\n",
       "      <td>120024181N002AC0</td>\n",
       "      <td>110044181Q0060C0</td>\n",
       "      <td>040014181N001KC0</td>\n",
       "      <td>SZGR201702255</td>\n",
       "    </tr>\n",
       "    <tr>\n",
       "      <th>2</th>\n",
       "      <td>2018-03-05</td>\n",
       "      <td>1000624418210117</td>\n",
       "      <td>000194181W000HA0</td>\n",
       "      <td>120024181W002AC0</td>\n",
       "      <td>110044181X0014C0</td>\n",
       "      <td>040014181V00L1C0</td>\n",
       "      <td>SZGR201702985</td>\n",
       "    </tr>\n",
       "    <tr>\n",
       "      <th>3</th>\n",
       "      <td>2018-03-05</td>\n",
       "      <td>1000624418210123</td>\n",
       "      <td>000194181W0025A0</td>\n",
       "      <td>120024181W0047C0</td>\n",
       "      <td>110044181X00D2C0</td>\n",
       "      <td>040014181V002PC0</td>\n",
       "      <td>SZGR201609873</td>\n",
       "    </tr>\n",
       "    <tr>\n",
       "      <th>4</th>\n",
       "      <td>2018-03-05</td>\n",
       "      <td>1000624418210138</td>\n",
       "      <td>000194181W004ZA0</td>\n",
       "      <td>120024181W006WC0</td>\n",
       "      <td>110044181X006JC0</td>\n",
       "      <td>040014181V0024C0</td>\n",
       "      <td>SZGR201702973</td>\n",
       "    </tr>\n",
       "  </tbody>\n",
       "</table>\n",
       "</div>"
      ],
      "text/plain": [
       "    PackDate          MotherSN                MB              NIBP  \\\n",
       "0 2018-03-05  10006244181W0053  000194181T0002A0  120024181N004JC0   \n",
       "1 2018-03-05  1000624418210035  000194181W000WA0  120024181N002AC0   \n",
       "2 2018-03-05  1000624418210117  000194181W000HA0  120024181W002AC0   \n",
       "3 2018-03-05  1000624418210123  000194181W0025A0  120024181W0047C0   \n",
       "4 2018-03-05  1000624418210138  000194181W004ZA0  120024181W006WC0   \n",
       "\n",
       "               SPO2               GLU            ECG  \n",
       "0  110044181Q002NC0  04001417CC006SC0  SZGR201701416  \n",
       "1  110044181Q0060C0  040014181N001KC0  SZGR201702255  \n",
       "2  110044181X0014C0  040014181V00L1C0  SZGR201702985  \n",
       "3  110044181X00D2C0  040014181V002PC0  SZGR201609873  \n",
       "4  110044181X006JC0  040014181V0024C0  SZGR201702973  "
      ]
     },
     "execution_count": 24,
     "metadata": {},
     "output_type": "execute_result"
    }
   ],
   "source": [
    "%%timeit\n",
    "outsndata = pd.DataFrame(columns=out_columns)\n",
    "for i, p in sndata.iterrows():\n",
    "    msn = p['ProductSN'][2:]\n",
    "    childsn = alldata[alldata['MotherSN'] == msn]\n",
    "    #childsn.info()\n",
    "    for idx, row in childsn.iterrows():\n",
    "        sn = str(row['ChildSN'])\n",
    "        if (sn[:3] == '000'): \n",
    "            mbsn = sn[:16]\n",
    "        elif (sn[:4] == '0400'):\n",
    "            glusn = sn[:16]\n",
    "        elif (sn[:4] == '2000' or sn[:4] == '1200'):\n",
    "            nibpsn = sn[:16]\n",
    "        elif (sn[:4] == '1100'):\n",
    "            spo2sn = sn[:16]\n",
    "        elif (sn[:4] == 'SZGR' or sn[:4] == 'JSGR'):\n",
    "            ecgsn = sn[:13]\n",
    "    #print(\"MotherSN:{}, MB:{}, GLU:{}, NIBP:{}, SPO2:{}, ECG:{}\".format(msn, mbsn, glusn, nibpsn, spo2sn, ecgsn))\n",
    "    s = pd.Series({'PackDate':p['PackDate'], 'MotherSN':msn, 'MB':mbsn, 'NIBP':nibpsn, 'SPO2':spo2sn, 'GLU':glusn, \"ECG\":ecgsn})\n",
    "    outsndata = outsndata.append(s, ignore_index=True)\n",
    "    \n",
    "outsndata.info()\n",
    "outsndata.head()"
   ]
  },
  {
   "cell_type": "code",
   "execution_count": 25,
   "metadata": {},
   "outputs": [],
   "source": [
    "outsndata.to_excel(\"Product_Child_SN.xls\")"
   ]
  },
  {
   "cell_type": "code",
   "execution_count": null,
   "metadata": {},
   "outputs": [],
   "source": []
  }
 ],
 "metadata": {
  "kernelspec": {
   "display_name": "Python 3",
   "language": "python",
   "name": "python3"
  },
  "language_info": {
   "codemirror_mode": {
    "name": "ipython",
    "version": 3
   },
   "file_extension": ".py",
   "mimetype": "text/x-python",
   "name": "python",
   "nbconvert_exporter": "python",
   "pygments_lexer": "ipython3",
   "version": "3.6.6"
  }
 },
 "nbformat": 4,
 "nbformat_minor": 2
}
